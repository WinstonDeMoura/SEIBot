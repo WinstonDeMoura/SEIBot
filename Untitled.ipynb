{
 "cells": [
  {
   "cell_type": "code",
   "execution_count": null,
   "id": "eda357ca",
   "metadata": {},
   "outputs": [],
   "source": [
    "import pandas as pd\n",
    "import re\n",
    "\n",
    "\n",
    "\n",
    "tabela = pd.read_csv('ArquivosEssenciais\\AllStudentsExport.csv', encoding='latin-1', sep=';', usecols=['Nome', 'Número para Msg Text'])\n",
    "tabela.rename(columns={'Nome':'Alunos', 'Número para Msg Text':'Número'}, inplace=True)\n",
    "##Tira todos os campos vazios da tabela\n",
    "tabela.dropna(inplace=True)\n",
    "\n",
    "n = tabela['Alunos']\n",
    "separate = tabela['Alunos'].str.split().str.join(sep='')\n",
    "\n",
    "print(format(separate[0]))"
   ]
  }
 ],
 "metadata": {
  "interpreter": {
   "hash": "ac40b72e75a4317a9675a8ab560dbe7c24e0798474e76951e9253ed6651c5c6a"
  },
  "kernelspec": {
   "display_name": "Python 3.9.7 64-bit ('base': conda)",
   "language": "python",
   "name": "python3"
  },
  "language_info": {
   "codemirror_mode": {
    "name": "ipython",
    "version": 3
   },
   "file_extension": ".py",
   "mimetype": "text/x-python",
   "name": "python",
   "nbconvert_exporter": "python",
   "pygments_lexer": "ipython3",
   "version": "3.9.7"
  }
 },
 "nbformat": 4,
 "nbformat_minor": 5
}
