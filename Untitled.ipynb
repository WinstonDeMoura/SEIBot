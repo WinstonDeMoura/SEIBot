{
 "cells": [
  {
   "cell_type": "code",
   "execution_count": 45,
   "id": "eda357ca",
   "metadata": {},
   "outputs": [],
   "source": [
    "import pandas as pd\n",
    "import re\n",
    "\n",
    "\n",
    "import pandas as pd\n",
    "import re\n",
    "\n",
    "#Pega a base de dados do caminho e escolher quais colunas deseja ler\n",
    "tabela = pd.read_csv('ArquivosEssenciais/AllStudentsExport.csv', encoding='latin-1', sep=';', usecols=['Nome', 'Número para Msg Text'])\n",
    "\n",
    "#Renomeia o nome das colunas\n",
    "tabela.rename(columns={'Nome':'Alunos', 'Número para Msg Text':'Número'}, inplace=True)\n",
    "\n",
    "#Deixar só o primeiro nome\n",
    "n = tabela['Alunos']\n",
    "colunaalunos = [n.split(' ')[0] for n in n]\n",
    "###\n",
    "\n",
    "#Atualizar coluna alunos só com o primeiro nome\n",
    "tabela['Alunos'] = pd.DataFrame({'Nome':colunaalunos})\n",
    "\n",
    "\n",
    "#Colocando a tabela em ordem alfabetica\n",
    "tabela = tabela.sort_values('Alunos')\n",
    "\n",
    "##Tira todos os campos vazios da tabela\n",
    "tabela.dropna(inplace=True)\n",
    "\n",
    "\n",
    "tabela.to_excel(\"ArquivosEssenciais/BancoDeDados.xlsx\",index=False)\n"
   ]
  },
  {
   "cell_type": "code",
   "execution_count": null,
   "id": "d39aedc4",
   "metadata": {},
   "outputs": [],
   "source": []
  },
  {
   "cell_type": "code",
   "execution_count": null,
   "id": "2a06a437",
   "metadata": {},
   "outputs": [],
   "source": []
  }
 ],
 "metadata": {
  "interpreter": {
   "hash": "ac40b72e75a4317a9675a8ab560dbe7c24e0798474e76951e9253ed6651c5c6a"
  },
  "kernelspec": {
   "display_name": "Python 3.9.7 64-bit ('base': conda)",
   "language": "python",
   "name": "python3"
  },
  "language_info": {
   "codemirror_mode": {
    "name": "ipython",
    "version": 3
   },
   "file_extension": ".py",
   "mimetype": "text/x-python",
   "name": "python",
   "nbconvert_exporter": "python",
   "pygments_lexer": "ipython3",
   "version": "3.8.10"
  }
 },
 "nbformat": 4,
 "nbformat_minor": 5
}
